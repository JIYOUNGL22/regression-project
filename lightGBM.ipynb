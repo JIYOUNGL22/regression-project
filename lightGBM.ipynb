{
 "cells": [
  {
   "cell_type": "code",
   "execution_count": 2,
   "id": "8add361f",
   "metadata": {},
   "outputs": [],
   "source": [
    "from sklearn import linear_model\n",
    "import numpy as np\n",
    "import pandas as pd\n",
    "import matplotlib\n",
    "import matplotlib.pyplot as plt\n",
    "import seaborn as sns\n",
    "import time\n",
    "import lightgbm as lgb\n",
    "%matplotlib inline\n",
    "\n",
    "# 폰트설정 (맥)\n",
    "from matplotlib import font_manager\n",
    "plt.rcParams[\"font.family\"] = 'NanumGothicCoding'\n",
    "from matplotlib import rc\n",
    "rc('font', family=\"Arial Unicode MS\")\n",
    "\n",
    "# 폰트 설정 (윈도우)\n",
    "from matplotlib import rc\n",
    "\n",
    "rc('font', family='Malgun Gothic')"
   ]
  },
  {
   "cell_type": "code",
   "execution_count": 3,
   "id": "91c18b35",
   "metadata": {},
   "outputs": [],
   "source": [
    "train = pd.read_csv('datas/train.csv')\n",
    "\n",
    "train['P/m^2'] = train['transaction_real_price']/train['exclusive_use_area'] # 평당가격 column 추가\n",
    "\n",
    "train['year'] =  round(train['transaction_year_month'] / 100)\n",
    "train['month'] = train['transaction_year_month'] % 100\n",
    "\n",
    "train = train[['transaction_id', 'apartment_id', 'city',  'dong', 'jibun', 'apt',\n",
    "               'addr_kr', 'exclusive_use_area', 'year_of_completion',\n",
    "               'transaction_year_month','year', 'month', 'transaction_date', 'floor', 'P/m^2',\n",
    "               'transaction_real_price']]"
   ]
  },
  {
   "cell_type": "code",
   "execution_count": 4,
   "id": "6606d6c9",
   "metadata": {},
   "outputs": [
    {
     "data": {
      "text/html": [
       "<div>\n",
       "<style scoped>\n",
       "    .dataframe tbody tr th:only-of-type {\n",
       "        vertical-align: middle;\n",
       "    }\n",
       "\n",
       "    .dataframe tbody tr th {\n",
       "        vertical-align: top;\n",
       "    }\n",
       "\n",
       "    .dataframe thead th {\n",
       "        text-align: right;\n",
       "    }\n",
       "</style>\n",
       "<table border=\"1\" class=\"dataframe\">\n",
       "  <thead>\n",
       "    <tr style=\"text-align: right;\">\n",
       "      <th></th>\n",
       "      <th>transaction_id</th>\n",
       "      <th>apartment_id</th>\n",
       "      <th>city</th>\n",
       "      <th>dong</th>\n",
       "      <th>jibun</th>\n",
       "      <th>apt</th>\n",
       "      <th>addr_kr</th>\n",
       "      <th>exclusive_use_area</th>\n",
       "      <th>year_of_completion</th>\n",
       "      <th>transaction_year_month</th>\n",
       "      <th>year</th>\n",
       "      <th>month</th>\n",
       "      <th>transaction_date</th>\n",
       "      <th>floor</th>\n",
       "      <th>P/m^2</th>\n",
       "      <th>transaction_real_price</th>\n",
       "    </tr>\n",
       "  </thead>\n",
       "  <tbody>\n",
       "    <tr>\n",
       "      <th>0</th>\n",
       "      <td>0</td>\n",
       "      <td>7622</td>\n",
       "      <td>서울특별시</td>\n",
       "      <td>신교동</td>\n",
       "      <td>6-13</td>\n",
       "      <td>신현(101동)</td>\n",
       "      <td>신교동 6-13 신현(101동)</td>\n",
       "      <td>84.82</td>\n",
       "      <td>2002</td>\n",
       "      <td>200801</td>\n",
       "      <td>2008.0</td>\n",
       "      <td>1</td>\n",
       "      <td>21~31</td>\n",
       "      <td>2</td>\n",
       "      <td>442.112709</td>\n",
       "      <td>37500</td>\n",
       "    </tr>\n",
       "    <tr>\n",
       "      <th>1</th>\n",
       "      <td>1</td>\n",
       "      <td>5399</td>\n",
       "      <td>서울특별시</td>\n",
       "      <td>필운동</td>\n",
       "      <td>142</td>\n",
       "      <td>사직파크맨션</td>\n",
       "      <td>필운동 142 사직파크맨션</td>\n",
       "      <td>99.17</td>\n",
       "      <td>1973</td>\n",
       "      <td>200801</td>\n",
       "      <td>2008.0</td>\n",
       "      <td>1</td>\n",
       "      <td>1~10</td>\n",
       "      <td>6</td>\n",
       "      <td>201.673893</td>\n",
       "      <td>20000</td>\n",
       "    </tr>\n",
       "    <tr>\n",
       "      <th>2</th>\n",
       "      <td>2</td>\n",
       "      <td>3578</td>\n",
       "      <td>서울특별시</td>\n",
       "      <td>필운동</td>\n",
       "      <td>174-1</td>\n",
       "      <td>두레엘리시안</td>\n",
       "      <td>필운동 174-1 두레엘리시안</td>\n",
       "      <td>84.74</td>\n",
       "      <td>2007</td>\n",
       "      <td>200801</td>\n",
       "      <td>2008.0</td>\n",
       "      <td>1</td>\n",
       "      <td>1~10</td>\n",
       "      <td>6</td>\n",
       "      <td>454.330895</td>\n",
       "      <td>38500</td>\n",
       "    </tr>\n",
       "    <tr>\n",
       "      <th>3</th>\n",
       "      <td>3</td>\n",
       "      <td>10957</td>\n",
       "      <td>서울특별시</td>\n",
       "      <td>내수동</td>\n",
       "      <td>95</td>\n",
       "      <td>파크팰리스</td>\n",
       "      <td>내수동 95 파크팰리스</td>\n",
       "      <td>146.39</td>\n",
       "      <td>2003</td>\n",
       "      <td>200801</td>\n",
       "      <td>2008.0</td>\n",
       "      <td>1</td>\n",
       "      <td>11~20</td>\n",
       "      <td>15</td>\n",
       "      <td>806.065988</td>\n",
       "      <td>118000</td>\n",
       "    </tr>\n",
       "    <tr>\n",
       "      <th>4</th>\n",
       "      <td>4</td>\n",
       "      <td>10639</td>\n",
       "      <td>서울특별시</td>\n",
       "      <td>내수동</td>\n",
       "      <td>110-15</td>\n",
       "      <td>킹스매너</td>\n",
       "      <td>내수동 110-15 킹스매너</td>\n",
       "      <td>194.43</td>\n",
       "      <td>2004</td>\n",
       "      <td>200801</td>\n",
       "      <td>2008.0</td>\n",
       "      <td>1</td>\n",
       "      <td>21~31</td>\n",
       "      <td>3</td>\n",
       "      <td>617.188705</td>\n",
       "      <td>120000</td>\n",
       "    </tr>\n",
       "  </tbody>\n",
       "</table>\n",
       "</div>"
      ],
      "text/plain": [
       "   transaction_id  apartment_id   city dong   jibun       apt  \\\n",
       "0               0          7622  서울특별시  신교동    6-13  신현(101동)   \n",
       "1               1          5399  서울특별시  필운동     142    사직파크맨션   \n",
       "2               2          3578  서울특별시  필운동   174-1    두레엘리시안   \n",
       "3               3         10957  서울특별시  내수동      95     파크팰리스   \n",
       "4               4         10639  서울특별시  내수동  110-15      킹스매너   \n",
       "\n",
       "             addr_kr  exclusive_use_area  year_of_completion  \\\n",
       "0  신교동 6-13 신현(101동)               84.82                2002   \n",
       "1     필운동 142 사직파크맨션               99.17                1973   \n",
       "2   필운동 174-1 두레엘리시안               84.74                2007   \n",
       "3       내수동 95 파크팰리스              146.39                2003   \n",
       "4    내수동 110-15 킹스매너              194.43                2004   \n",
       "\n",
       "   transaction_year_month    year  month transaction_date  floor       P/m^2  \\\n",
       "0                  200801  2008.0      1            21~31      2  442.112709   \n",
       "1                  200801  2008.0      1             1~10      6  201.673893   \n",
       "2                  200801  2008.0      1             1~10      6  454.330895   \n",
       "3                  200801  2008.0      1            11~20     15  806.065988   \n",
       "4                  200801  2008.0      1            21~31      3  617.188705   \n",
       "\n",
       "   transaction_real_price  \n",
       "0                   37500  \n",
       "1                   20000  \n",
       "2                   38500  \n",
       "3                  118000  \n",
       "4                  120000  "
      ]
     },
     "execution_count": 4,
     "metadata": {},
     "output_type": "execute_result"
    }
   ],
   "source": [
    "train.head()"
   ]
  },
  {
   "cell_type": "code",
   "execution_count": 6,
   "id": "700d7fef",
   "metadata": {},
   "outputs": [],
   "source": [
    "train[\"dong2\"] = train[\"dong\"].astype('category')\n",
    "train[\"transaction_id2\"] = train[\"transaction_id\"].astype('category')\n",
    "train[\"apartment_id2\"] = train[\"apartment_id\"].astype('category')"
   ]
  },
  {
   "cell_type": "code",
   "execution_count": 7,
   "id": "7005ed19",
   "metadata": {},
   "outputs": [
    {
     "name": "stdout",
     "output_type": "stream",
     "text": [
      "<class 'pandas.core.frame.DataFrame'>\n",
      "RangeIndex: 1216553 entries, 0 to 1216552\n",
      "Data columns (total 19 columns):\n",
      " #   Column                  Non-Null Count    Dtype   \n",
      "---  ------                  --------------    -----   \n",
      " 0   transaction_id          1216553 non-null  int64   \n",
      " 1   apartment_id            1216553 non-null  int64   \n",
      " 2   city                    1216553 non-null  object  \n",
      " 3   dong                    1216553 non-null  object  \n",
      " 4   jibun                   1216553 non-null  object  \n",
      " 5   apt                     1216553 non-null  object  \n",
      " 6   addr_kr                 1216553 non-null  object  \n",
      " 7   exclusive_use_area      1216553 non-null  float64 \n",
      " 8   year_of_completion      1216553 non-null  int64   \n",
      " 9   transaction_year_month  1216553 non-null  int64   \n",
      " 10  year                    1216553 non-null  float64 \n",
      " 11  month                   1216553 non-null  int64   \n",
      " 12  transaction_date        1216553 non-null  object  \n",
      " 13  floor                   1216553 non-null  int64   \n",
      " 14  P/m^2                   1216553 non-null  float64 \n",
      " 15  transaction_real_price  1216553 non-null  int64   \n",
      " 16  dong2                   1216553 non-null  category\n",
      " 17  transaction_id2         1216553 non-null  category\n",
      " 18  apartment_id2           1216553 non-null  category\n",
      "dtypes: category(3), float64(3), int64(7), object(6)\n",
      "memory usage: 199.7+ MB\n"
     ]
    }
   ],
   "source": [
    "train.info()"
   ]
  },
  {
   "cell_type": "code",
   "execution_count": 8,
   "id": "6083f0ce",
   "metadata": {},
   "outputs": [],
   "source": [
    "from sklearn.model_selection import train_test_split\n",
    "from sklearn.linear_model import LinearRegression\n",
    "from sklearn.metrics import mean_squared_error, r2_score"
   ]
  },
  {
   "cell_type": "code",
   "execution_count": 9,
   "id": "477a7883",
   "metadata": {},
   "outputs": [],
   "source": [
    "train_x = train[[\"dong2\",\"apartment_id2\",\"exclusive_use_area\",\"year_of_completion\",\"year\",\"month\",\"floor\"]]\n",
    "train_y = train[[\"transaction_real_price\"]]"
   ]
  },
  {
   "cell_type": "code",
   "execution_count": 10,
   "id": "751cf9c7",
   "metadata": {},
   "outputs": [],
   "source": [
    "train_x, test_x, train_y, test_y = train_test_split(train_x, train_y, test_size=0.2, random_state=13)"
   ]
  },
  {
   "cell_type": "code",
   "execution_count": 11,
   "id": "f7592d0b",
   "metadata": {},
   "outputs": [],
   "source": [
    "train_ds = lgb.Dataset(train_x, label = train_y) \n",
    "test_ds = lgb.Dataset(test_x, label = test_y) "
   ]
  },
  {
   "cell_type": "code",
   "execution_count": 12,
   "id": "fe8f2819",
   "metadata": {},
   "outputs": [],
   "source": [
    "params = {'learning_rate': 0.01, \n",
    "          'max_depth': 16, \n",
    "          'boosting': 'gbdt', \n",
    "          'objective': 'regression', \n",
    "          'metric': 'mse', \n",
    "          'is_training_metric': True, \n",
    "          'num_leaves': 144, \n",
    "          'feature_fraction': 0.9, \n",
    "          'bagging_fraction': 0.7, \n",
    "          'bagging_freq': 5, \n",
    "          'seed':2018}"
   ]
  },
  {
   "cell_type": "code",
   "execution_count": 13,
   "id": "b4cb4fef",
   "metadata": {
    "scrolled": true
   },
   "outputs": [
    {
     "name": "stdout",
     "output_type": "stream",
     "text": [
      "[LightGBM] [Warning] Auto-choosing row-wise multi-threading, the overhead of testing was 0.006063 seconds.\n",
      "You can set `force_row_wise=true` to remove the overhead.\n",
      "And if memory is not enough, you can set `force_col_wise=true`.\n",
      "[LightGBM] [Info] Total Bins 7900\n",
      "[LightGBM] [Info] Number of data points in the train set: 973242, number of used features: 7\n",
      "[LightGBM] [Info] Start training from score 38208.178344\n",
      "Training until validation scores don't improve for 100 rounds\n"
     ]
    },
    {
     "name": "stderr",
     "output_type": "stream",
     "text": [
      "/Users/ijiyeong/opt/anaconda3/envs/jiyoung/lib/python3.7/site-packages/lightgbm/basic.py:1433: UserWarning: Overriding the parameters from Reference Dataset.\n",
      "  _log_warning('Overriding the parameters from Reference Dataset.')\n",
      "/Users/ijiyeong/opt/anaconda3/envs/jiyoung/lib/python3.7/site-packages/lightgbm/basic.py:1245: UserWarning: categorical_column in param dict is overridden.\n",
      "  _log_warning('{} in param dict is overridden.'.format(cat_alias))\n"
     ]
    },
    {
     "name": "stdout",
     "output_type": "stream",
     "text": [
      "[100]\tvalid_0's l2: 1.89808e+08\n",
      "[200]\tvalid_0's l2: 6.28634e+07\n",
      "[300]\tvalid_0's l2: 3.60271e+07\n",
      "[400]\tvalid_0's l2: 2.79067e+07\n",
      "[500]\tvalid_0's l2: 2.43984e+07\n",
      "[600]\tvalid_0's l2: 2.24193e+07\n",
      "[700]\tvalid_0's l2: 2.12614e+07\n",
      "[800]\tvalid_0's l2: 2.06085e+07\n",
      "[900]\tvalid_0's l2: 2.01798e+07\n",
      "[1000]\tvalid_0's l2: 1.97351e+07\n",
      "[1100]\tvalid_0's l2: 1.93952e+07\n",
      "[1200]\tvalid_0's l2: 1.91179e+07\n",
      "[1300]\tvalid_0's l2: 1.88106e+07\n",
      "[1400]\tvalid_0's l2: 1.85775e+07\n",
      "[1500]\tvalid_0's l2: 1.83114e+07\n",
      "[1600]\tvalid_0's l2: 1.81059e+07\n",
      "[1700]\tvalid_0's l2: 1.79082e+07\n",
      "[1800]\tvalid_0's l2: 1.77342e+07\n",
      "[1900]\tvalid_0's l2: 1.75627e+07\n",
      "[2000]\tvalid_0's l2: 1.74259e+07\n",
      "[2100]\tvalid_0's l2: 1.73035e+07\n",
      "[2200]\tvalid_0's l2: 1.71959e+07\n",
      "[2300]\tvalid_0's l2: 1.70862e+07\n",
      "[2400]\tvalid_0's l2: 1.69801e+07\n",
      "[2500]\tvalid_0's l2: 1.68871e+07\n",
      "[2600]\tvalid_0's l2: 1.68067e+07\n",
      "[2700]\tvalid_0's l2: 1.67377e+07\n",
      "[2800]\tvalid_0's l2: 1.66689e+07\n",
      "[2900]\tvalid_0's l2: 1.65947e+07\n",
      "[3000]\tvalid_0's l2: 1.65347e+07\n",
      "[3100]\tvalid_0's l2: 1.64737e+07\n",
      "[3200]\tvalid_0's l2: 1.64042e+07\n",
      "[3300]\tvalid_0's l2: 1.63592e+07\n",
      "[3400]\tvalid_0's l2: 1.63007e+07\n",
      "[3500]\tvalid_0's l2: 1.62596e+07\n",
      "[3600]\tvalid_0's l2: 1.62066e+07\n",
      "[3700]\tvalid_0's l2: 1.61676e+07\n",
      "[3800]\tvalid_0's l2: 1.61297e+07\n",
      "[3900]\tvalid_0's l2: 1.61043e+07\n",
      "[4000]\tvalid_0's l2: 1.60591e+07\n",
      "[4100]\tvalid_0's l2: 1.60407e+07\n",
      "[4200]\tvalid_0's l2: 1.6005e+07\n",
      "[4300]\tvalid_0's l2: 1.59606e+07\n",
      "[4400]\tvalid_0's l2: 1.59248e+07\n",
      "[4500]\tvalid_0's l2: 1.59185e+07\n",
      "[4600]\tvalid_0's l2: 1.58848e+07\n",
      "[4700]\tvalid_0's l2: 1.58462e+07\n",
      "[4800]\tvalid_0's l2: 1.58326e+07\n",
      "[4900]\tvalid_0's l2: 1.57976e+07\n",
      "[5000]\tvalid_0's l2: 1.57683e+07\n",
      "Did not meet early stopping. Best iteration is:\n",
      "[5000]\tvalid_0's l2: 1.57683e+07\n"
     ]
    }
   ],
   "source": [
    "model = lgb.train(params, train_ds, 5000, test_ds, verbose_eval=100, early_stopping_rounds=100)"
   ]
  },
  {
   "cell_type": "code",
   "execution_count": 14,
   "id": "a6d4f307",
   "metadata": {},
   "outputs": [],
   "source": [
    "predict_train = model.predict(train_x)\n",
    "predict_test = model.predict(test_x)"
   ]
  },
  {
   "cell_type": "code",
   "execution_count": 15,
   "id": "dce4257d",
   "metadata": {},
   "outputs": [],
   "source": [
    "mse = mean_squared_error(test_y, predict_test)\n",
    "r2 = r2_score(test_y, predict_test)\n",
    "rmse = mean_squared_error(test_y, predict_test)**0.5"
   ]
  },
  {
   "cell_type": "code",
   "execution_count": 16,
   "id": "1b2cfbcf",
   "metadata": {},
   "outputs": [
    {
     "name": "stdout",
     "output_type": "stream",
     "text": [
      "Mean squared error:  15768326.988400154\n",
      "R2 score:  0.9836774483421894\n",
      "RMSE score: 3970.935278797698\n"
     ]
    }
   ],
   "source": [
    "print('Mean squared error: ', mse)\n",
    "print('R2 score: ', r2)\n",
    "print('RMSE score:', rmse)"
   ]
  },
  {
   "cell_type": "code",
   "execution_count": 120,
   "id": "b24c0d6e",
   "metadata": {},
   "outputs": [],
   "source": [
    "final_result = pd.concat([test_y.reset_index(drop=True), pd.DataFrame(predict_test)], axis = 1)"
   ]
  },
  {
   "cell_type": "code",
   "execution_count": 121,
   "id": "7dad02c4",
   "metadata": {},
   "outputs": [],
   "source": [
    "final_result.columns = ['label','predict']"
   ]
  },
  {
   "cell_type": "code",
   "execution_count": 122,
   "id": "dbe8d6b3",
   "metadata": {},
   "outputs": [
    {
     "data": {
      "text/plain": [
       "<AxesSubplot:xlabel='label', ylabel='predict'>"
      ]
     },
     "execution_count": 122,
     "metadata": {},
     "output_type": "execute_result"
    },
    {
     "data": {
      "image/png": "[encoded data removed]",
      "text/plain": [
       "<Figure size 432x288 with 1 Axes>"
      ]
     },
     "metadata": {
      "image/png": {
       "height": 261,
       "width": 418
      },
      "needs_background": "light"
     },
     "output_type": "display_data"
    }
   ],
   "source": [
    "sns.regplot(x = 'label', y = 'predict', data = final_result)"
   ]
  },
  {
   "cell_type": "code",
   "execution_count": 124,
   "id": "32c34dff",
   "metadata": {},
   "outputs": [
    {
     "ename": "SyntaxError",
     "evalue": "invalid syntax (<ipython-input-124-3dc24dbc19d8>, line 1)",
     "output_type": "error",
     "traceback": [
      "\u001b[0;36m  File \u001b[0;32m\"<ipython-input-124-3dc24dbc19d8>\"\u001b[0;36m, line \u001b[0;32m1\u001b[0m\n\u001b[0;31m    model = (params, train_ds, 2000, test_ds, verbose_eval=100, early_stopping_rounds=100)\u001b[0m\n\u001b[0m                                                          ^\u001b[0m\n\u001b[0;31mSyntaxError\u001b[0m\u001b[0;31m:\u001b[0m invalid syntax\n"
     ]
    }
   ],
   "source": [
    "model = (params, train_ds, 2000, test_ds, verbose_eval=100, early_stopping_rounds=100)"
   ]
  },
  {
   "cell_type": "code",
   "execution_count": null,
   "id": "3973f566",
   "metadata": {},
   "outputs": [],
   "source": [
    "predict_train = model.predict(train_x)\n",
    "predict_test = model.predict(test_x)"
   ]
  },
  {
   "cell_type": "code",
   "execution_count": null,
   "id": "84cf0037",
   "metadata": {},
   "outputs": [],
   "source": [
    "mse = mean_squared_error(test_y, predict_test)\n",
    "r2 = r2_score(test_y, predict_test)\n",
    "rmse = mean_squared_error(test_y, predict_test)**0.5"
   ]
  },
  {
   "cell_type": "code",
   "execution_count": null,
   "id": "66530c20",
   "metadata": {},
   "outputs": [],
   "source": [
    "print('Mean squared error: ', mse)\n",
    "print('R2 score: ', r2)\n",
    "print('RMSE score:', rmse)"
   ]
  },
  {
   "cell_type": "code",
   "execution_count": null,
   "id": "a6abf90b",
   "metadata": {},
   "outputs": [],
   "source": [
    "rrmse = mean_squared_error(test_y, predict_test,squared=False)\n",
    "rrmse"
   ]
  },
  {
   "cell_type": "code",
   "execution_count": null,
   "id": "94275516",
   "metadata": {},
   "outputs": [],
   "source": [
    "final_result = pd.concat([test_y.reset_index(drop=True), pd.DataFrame(predict_test)], axis = 1)"
   ]
  },
  {
   "cell_type": "code",
   "execution_count": null,
   "id": "ef620890",
   "metadata": {},
   "outputs": [],
   "source": [
    "final_result.columns = ['label','predict']"
   ]
  },
  {
   "cell_type": "code",
   "execution_count": null,
   "id": "5056adcb",
   "metadata": {},
   "outputs": [],
   "source": [
    "sns.regplot(x = 'label', y = 'predict', data = final_result)"
   ]
  },
  {
   "cell_type": "code",
   "execution_count": 125,
   "id": "596b6490",
   "metadata": {},
   "outputs": [
    {
     "name": "stdout",
     "output_type": "stream",
     "text": [
      "[LightGBM] [Warning] Auto-choosing row-wise multi-threading, the overhead of testing was 0.011864 seconds.\n",
      "You can set `force_row_wise=true` to remove the overhead.\n",
      "And if memory is not enough, you can set `force_col_wise=true`.\n",
      "[LightGBM] [Info] Total Bins 8278\n",
      "[LightGBM] [Info] Number of data points in the train set: 973242, number of used features: 10\n",
      "[LightGBM] [Info] Start training from score 38208.178344\n",
      "Training until validation scores don't improve for 100 rounds\n",
      "[100]\tvalid_0's l2: 1.41795e+08\n",
      "[200]\tvalid_0's l2: 2.33432e+07\n",
      "[300]\tvalid_0's l2: 5.65776e+06\n",
      "[400]\tvalid_0's l2: 2.53571e+06\n",
      "[500]\tvalid_0's l2: 1.81505e+06\n",
      "[600]\tvalid_0's l2: 1.57434e+06\n",
      "[700]\tvalid_0's l2: 1.44581e+06\n",
      "[800]\tvalid_0's l2: 1.37198e+06\n",
      "[900]\tvalid_0's l2: 1.32783e+06\n",
      "[1000]\tvalid_0's l2: 1.28871e+06\n",
      "[1100]\tvalid_0's l2: 1.26054e+06\n",
      "[1200]\tvalid_0's l2: 1.23521e+06\n",
      "[1300]\tvalid_0's l2: 1.21705e+06\n",
      "[1400]\tvalid_0's l2: 1.20341e+06\n",
      "[1500]\tvalid_0's l2: 1.19313e+06\n",
      "[1600]\tvalid_0's l2: 1.19087e+06\n",
      "[1700]\tvalid_0's l2: 1.17709e+06\n",
      "[1800]\tvalid_0's l2: 1.16918e+06\n",
      "[1900]\tvalid_0's l2: 1.16333e+06\n",
      "[2000]\tvalid_0's l2: 1.1603e+06\n",
      "Did not meet early stopping. Best iteration is:\n",
      "[1955]\tvalid_0's l2: 1.15896e+06\n"
     ]
    }
   ],
   "source": [
    "model = lgb.train(params, train_ds, 2000, test_ds, verbose_eval=100, early_stopping_rounds=100)"
   ]
  },
  {
   "cell_type": "code",
   "execution_count": 126,
   "id": "7372f9af",
   "metadata": {},
   "outputs": [],
   "source": [
    "predict_train = model.predict(train_x)\n",
    "predict_test = model.predict(test_x)"
   ]
  },
  {
   "cell_type": "code",
   "execution_count": 127,
   "id": "c4d73fca",
   "metadata": {},
   "outputs": [],
   "source": [
    "mse = mean_squared_error(test_y, predict_test)\n",
    "r2 = r2_score(test_y, predict_test)\n",
    "rmse = mean_squared_error(test_y, predict_test)**0.5"
   ]
  },
  {
   "cell_type": "code",
   "execution_count": 128,
   "id": "df13cb31",
   "metadata": {},
   "outputs": [
    {
     "name": "stdout",
     "output_type": "stream",
     "text": [
      "Mean squared error:  1158964.3957909748\n",
      "R2 score:  0.9988003003594625\n",
      "RMSE score: 1076.5520868917467\n"
     ]
    }
   ],
   "source": [
    "print('Mean squared error: ', mse)\n",
    "print('R2 score: ', r2)\n",
    "print('RMSE score:', rmse)"
   ]
  },
  {
   "cell_type": "code",
   "execution_count": 129,
   "id": "3ec38b6a",
   "metadata": {},
   "outputs": [],
   "source": [
    "final_result = pd.concat([test_y.reset_index(drop=True), pd.DataFrame(predict_test)], axis = 1)"
   ]
  },
  {
   "cell_type": "code",
   "execution_count": 130,
   "id": "8f6ff5d9",
   "metadata": {},
   "outputs": [],
   "source": [
    "final_result.columns = ['label','predict']"
   ]
  },
  {
   "cell_type": "code",
   "execution_count": 131,
   "id": "d68c0354",
   "metadata": {
    "scrolled": true
   },
   "outputs": [
    {
     "data": {
      "text/plain": [
       "<AxesSubplot:xlabel='label', ylabel='predict'>"
      ]
     },
     "execution_count": 131,
     "metadata": {},
     "output_type": "execute_result"
    },
    {
     "data": {
      "image/png": "[encoded data removed]",
      "text/plain": [
       "<Figure size 432x288 with 1 Axes>"
      ]
     },
     "metadata": {
      "image/png": {
       "height": 261,
       "width": 418
      },
      "needs_background": "light"
     },
     "output_type": "display_data"
    }
   ],
   "source": [
    "sns.regplot(x = 'label', y = 'predict', data = final_result)"
   ]
  },
  {
   "cell_type": "code",
   "execution_count": 132,
   "id": "0462bae2",
   "metadata": {},
   "outputs": [
    {
     "name": "stdout",
     "output_type": "stream",
     "text": [
      "[LightGBM] [Warning] Auto-choosing row-wise multi-threading, the overhead of testing was 0.016530 seconds.\n",
      "You can set `force_row_wise=true` to remove the overhead.\n",
      "And if memory is not enough, you can set `force_col_wise=true`.\n",
      "[LightGBM] [Info] Total Bins 8278\n",
      "[LightGBM] [Info] Number of data points in the train set: 973242, number of used features: 10\n",
      "[LightGBM] [Info] Start training from score 38208.178344\n",
      "Training until validation scores don't improve for 100 rounds\n",
      "[100]\tvalid_0's l2: 1.41795e+08\n",
      "[200]\tvalid_0's l2: 2.33432e+07\n",
      "[300]\tvalid_0's l2: 5.65776e+06\n",
      "[400]\tvalid_0's l2: 2.53571e+06\n",
      "[500]\tvalid_0's l2: 1.81505e+06\n",
      "[600]\tvalid_0's l2: 1.57434e+06\n",
      "[700]\tvalid_0's l2: 1.44581e+06\n",
      "[800]\tvalid_0's l2: 1.37198e+06\n",
      "[900]\tvalid_0's l2: 1.32783e+06\n",
      "[1000]\tvalid_0's l2: 1.28871e+06\n",
      "[1100]\tvalid_0's l2: 1.26054e+06\n",
      "[1200]\tvalid_0's l2: 1.23521e+06\n",
      "[1300]\tvalid_0's l2: 1.21705e+06\n",
      "[1400]\tvalid_0's l2: 1.20341e+06\n",
      "[1500]\tvalid_0's l2: 1.19313e+06\n",
      "[1600]\tvalid_0's l2: 1.19087e+06\n",
      "[1700]\tvalid_0's l2: 1.17709e+06\n",
      "[1800]\tvalid_0's l2: 1.16918e+06\n",
      "[1900]\tvalid_0's l2: 1.16333e+06\n",
      "[2000]\tvalid_0's l2: 1.1603e+06\n",
      "[2100]\tvalid_0's l2: 1.15434e+06\n",
      "[2200]\tvalid_0's l2: 1.15087e+06\n",
      "[2300]\tvalid_0's l2: 1.14835e+06\n",
      "[2400]\tvalid_0's l2: 1.14638e+06\n",
      "[2500]\tvalid_0's l2: 1.15011e+06\n",
      "Early stopping, best iteration is:\n",
      "[2405]\tvalid_0's l2: 1.14536e+06\n"
     ]
    }
   ],
   "source": [
    "model = lgb.train(params, train_ds, 5000, test_ds, verbose_eval=100, early_stopping_rounds=100)"
   ]
  },
  {
   "cell_type": "code",
   "execution_count": 133,
   "id": "789c0b69",
   "metadata": {},
   "outputs": [],
   "source": [
    "predict_train = model.predict(train_x)\n",
    "predict_test = model.predict(test_x)"
   ]
  },
  {
   "cell_type": "code",
   "execution_count": 134,
   "id": "f71703b5",
   "metadata": {},
   "outputs": [],
   "source": [
    "mse = mean_squared_error(test_y, predict_test)\n",
    "r2 = r2_score(test_y, predict_test)\n",
    "rmse = mean_squared_error(test_y, predict_test)**0.5"
   ]
  },
  {
   "cell_type": "code",
   "execution_count": 135,
   "id": "d1e4b2f4",
   "metadata": {},
   "outputs": [
    {
     "data": {
      "text/plain": [
       "1070.216238782746"
      ]
     },
     "execution_count": 135,
     "metadata": {},
     "output_type": "execute_result"
    }
   ],
   "source": [
    "rrmse = np.sqrt(mse)\n",
    "rrmse"
   ]
  },
  {
   "cell_type": "code",
   "execution_count": 136,
   "id": "80f412ea",
   "metadata": {},
   "outputs": [
    {
     "name": "stdout",
     "output_type": "stream",
     "text": [
      "Mean squared error:  1145362.7977542873\n",
      "R2 score:  0.9988143800260464\n",
      "RMSE score: 1070.216238782746\n"
     ]
    }
   ],
   "source": [
    "print('Mean squared error: ', mse)\n",
    "print('R2 score: ', r2)\n",
    "print('RMSE score:', rmse)"
   ]
  },
  {
   "cell_type": "code",
   "execution_count": 137,
   "id": "fe3b0879",
   "metadata": {},
   "outputs": [],
   "source": [
    "final_result = pd.concat([test_y.reset_index(drop=True), pd.DataFrame(predict_test)], axis = 1)"
   ]
  },
  {
   "cell_type": "code",
   "execution_count": 138,
   "id": "15ffbfa4",
   "metadata": {},
   "outputs": [],
   "source": [
    "final_result.columns = ['label','predict']"
   ]
  },
  {
   "cell_type": "code",
   "execution_count": 139,
   "id": "358b554a",
   "metadata": {},
   "outputs": [
    {
     "data": {
      "text/plain": [
       "<AxesSubplot:xlabel='label', ylabel='predict'>"
      ]
     },
     "execution_count": 139,
     "metadata": {},
     "output_type": "execute_result"
    },
    {
     "data": {
      "image/png": "[encoded data removed]",
      "text/plain": [
       "<Figure size 432x288 with 1 Axes>"
      ]
     },
     "metadata": {
      "image/png": {
       "height": 261,
       "width": 418
      },
      "needs_background": "light"
     },
     "output_type": "display_data"
    }
   ],
   "source": [
    "sns.regplot(x = 'label', y = 'predict', data = final_result)"
   ]
  },
  {
   "cell_type": "code",
   "execution_count": 140,
   "id": "6dda1371",
   "metadata": {},
   "outputs": [
    {
     "name": "stdout",
     "output_type": "stream",
     "text": [
      "<class 'pandas.core.frame.DataFrame'>\n",
      "RangeIndex: 1216553 entries, 0 to 1216552\n",
      "Data columns (total 19 columns):\n",
      " #   Column                  Non-Null Count    Dtype   \n",
      "---  ------                  --------------    -----   \n",
      " 0   transaction_id          1216553 non-null  int64   \n",
      " 1   apartment_id            1216553 non-null  int64   \n",
      " 2   city                    1216553 non-null  object  \n",
      " 3   dong                    1216553 non-null  object  \n",
      " 4   jibun                   1216553 non-null  object  \n",
      " 5   apt                     1216553 non-null  object  \n",
      " 6   addr_kr                 1216553 non-null  object  \n",
      " 7   exclusive_use_area      1216553 non-null  float64 \n",
      " 8   year_of_completion      1216553 non-null  int64   \n",
      " 9   transaction_year_month  1216553 non-null  int64   \n",
      " 10  year                    1216553 non-null  float64 \n",
      " 11  month                   1216553 non-null  int64   \n",
      " 12  transaction_date        1216553 non-null  object  \n",
      " 13  floor                   1216553 non-null  int64   \n",
      " 14  P/m^2                   1216553 non-null  float64 \n",
      " 15  transaction_real_price  1216553 non-null  int64   \n",
      " 16  dong2                   1216553 non-null  category\n",
      " 17  transaction_id2         1216553 non-null  category\n",
      " 18  apartment_id2           1216553 non-null  category\n",
      "dtypes: category(3), float64(3), int64(7), object(6)\n",
      "memory usage: 199.7+ MB\n"
     ]
    }
   ],
   "source": [
    "train.info()"
   ]
  },
  {
   "cell_type": "code",
   "execution_count": 171,
   "id": "ce4b764c",
   "metadata": {},
   "outputs": [],
   "source": [
    "train_x = train[[\"dong2\",\"apartment_id2\",\"exclusive_use_area\",\"year_of_completion\",\"year\",\"month\",\"floor\"]]\n",
    "train_y = train[[\"transaction_real_price\"]]"
   ]
  },
  {
   "cell_type": "code",
   "execution_count": 172,
   "id": "21602018",
   "metadata": {},
   "outputs": [
    {
     "name": "stdout",
     "output_type": "stream",
     "text": [
      "[LightGBM] [Warning] Auto-choosing row-wise multi-threading, the overhead of testing was 0.010051 seconds.\n",
      "You can set `force_row_wise=true` to remove the overhead.\n",
      "And if memory is not enough, you can set `force_col_wise=true`.\n",
      "[LightGBM] [Info] Total Bins 8278\n",
      "[LightGBM] [Info] Number of data points in the train set: 973242, number of used features: 10\n",
      "[LightGBM] [Info] Start training from score 38208.178344\n",
      "Training until validation scores don't improve for 100 rounds\n",
      "[100]\tvalid_0's l2: 1.41795e+08\n",
      "[200]\tvalid_0's l2: 2.33432e+07\n",
      "[300]\tvalid_0's l2: 5.65776e+06\n",
      "[400]\tvalid_0's l2: 2.53571e+06\n",
      "[500]\tvalid_0's l2: 1.81505e+06\n",
      "[600]\tvalid_0's l2: 1.57434e+06\n",
      "[700]\tvalid_0's l2: 1.44581e+06\n",
      "[800]\tvalid_0's l2: 1.37198e+06\n",
      "[900]\tvalid_0's l2: 1.32783e+06\n",
      "[1000]\tvalid_0's l2: 1.28871e+06\n",
      "[1100]\tvalid_0's l2: 1.26054e+06\n",
      "[1200]\tvalid_0's l2: 1.23521e+06\n",
      "[1300]\tvalid_0's l2: 1.21705e+06\n",
      "[1400]\tvalid_0's l2: 1.20341e+06\n",
      "[1500]\tvalid_0's l2: 1.19313e+06\n",
      "[1600]\tvalid_0's l2: 1.19087e+06\n",
      "[1700]\tvalid_0's l2: 1.17709e+06\n",
      "[1800]\tvalid_0's l2: 1.16918e+06\n",
      "[1900]\tvalid_0's l2: 1.16333e+06\n",
      "[2000]\tvalid_0's l2: 1.1603e+06\n",
      "[2100]\tvalid_0's l2: 1.15434e+06\n",
      "[2200]\tvalid_0's l2: 1.15087e+06\n",
      "[2300]\tvalid_0's l2: 1.14835e+06\n",
      "[2400]\tvalid_0's l2: 1.14638e+06\n",
      "[2500]\tvalid_0's l2: 1.15011e+06\n",
      "Early stopping, best iteration is:\n",
      "[2405]\tvalid_0's l2: 1.14536e+06\n"
     ]
    }
   ],
   "source": [
    "model = lgb.train(params, train_ds, 5000, test_ds, verbose_eval=100, early_stopping_rounds=100)"
   ]
  },
  {
   "cell_type": "code",
   "execution_count": 173,
   "id": "d8a3e92b",
   "metadata": {},
   "outputs": [
    {
     "ename": "ValueError",
     "evalue": "train and valid dataset categorical_feature do not match.",
     "output_type": "error",
     "traceback": [
      "\u001b[0;31m---------------------------------------------------------------------------\u001b[0m",
      "\u001b[0;31mValueError\u001b[0m                                Traceback (most recent call last)",
      "\u001b[0;32m<ipython-input-173-3884c3c93a37>\u001b[0m in \u001b[0;36m<module>\u001b[0;34m\u001b[0m\n\u001b[0;32m----> 1\u001b[0;31m \u001b[0mpredict_train\u001b[0m \u001b[0;34m=\u001b[0m \u001b[0mmodel\u001b[0m\u001b[0;34m.\u001b[0m\u001b[0mpredict\u001b[0m\u001b[0;34m(\u001b[0m\u001b[0mtrain_x\u001b[0m\u001b[0;34m,\u001b[0m \u001b[0mpredict_disable_shape_check\u001b[0m\u001b[0;34m=\u001b[0m\u001b[0;32mTrue\u001b[0m\u001b[0;34m)\u001b[0m\u001b[0;34m\u001b[0m\u001b[0;34m\u001b[0m\u001b[0m\n\u001b[0m\u001b[1;32m      2\u001b[0m \u001b[0mpredict_test\u001b[0m \u001b[0;34m=\u001b[0m \u001b[0mmodel\u001b[0m\u001b[0;34m.\u001b[0m\u001b[0mpredict\u001b[0m\u001b[0;34m(\u001b[0m\u001b[0mtest_x\u001b[0m\u001b[0;34m,\u001b[0m \u001b[0mpredict_disable_shape_check\u001b[0m\u001b[0;34m=\u001b[0m\u001b[0;32mTrue\u001b[0m\u001b[0;34m)\u001b[0m\u001b[0;34m\u001b[0m\u001b[0;34m\u001b[0m\u001b[0m\n",
      "\u001b[0;32m~/opt/anaconda3/envs/jiyoung/lib/python3.7/site-packages/lightgbm/basic.py\u001b[0m in \u001b[0;36mpredict\u001b[0;34m(self, data, start_iteration, num_iteration, raw_score, pred_leaf, pred_contrib, data_has_header, is_reshape, **kwargs)\u001b[0m\n\u001b[1;32m   3142\u001b[0m         return predictor.predict(data, start_iteration, num_iteration,\n\u001b[1;32m   3143\u001b[0m                                  \u001b[0mraw_score\u001b[0m\u001b[0;34m,\u001b[0m \u001b[0mpred_leaf\u001b[0m\u001b[0;34m,\u001b[0m \u001b[0mpred_contrib\u001b[0m\u001b[0;34m,\u001b[0m\u001b[0;34m\u001b[0m\u001b[0;34m\u001b[0m\u001b[0m\n\u001b[0;32m-> 3144\u001b[0;31m                                  data_has_header, is_reshape)\n\u001b[0m\u001b[1;32m   3145\u001b[0m \u001b[0;34m\u001b[0m\u001b[0m\n\u001b[1;32m   3146\u001b[0m     \u001b[0;32mdef\u001b[0m \u001b[0mrefit\u001b[0m\u001b[0;34m(\u001b[0m\u001b[0mself\u001b[0m\u001b[0;34m,\u001b[0m \u001b[0mdata\u001b[0m\u001b[0;34m,\u001b[0m \u001b[0mlabel\u001b[0m\u001b[0;34m,\u001b[0m \u001b[0mdecay_rate\u001b[0m\u001b[0;34m=\u001b[0m\u001b[0;36m0.9\u001b[0m\u001b[0;34m,\u001b[0m \u001b[0;34m**\u001b[0m\u001b[0mkwargs\u001b[0m\u001b[0;34m)\u001b[0m\u001b[0;34m:\u001b[0m\u001b[0;34m\u001b[0m\u001b[0;34m\u001b[0m\u001b[0m\n",
      "\u001b[0;32m~/opt/anaconda3/envs/jiyoung/lib/python3.7/site-packages/lightgbm/basic.py\u001b[0m in \u001b[0;36mpredict\u001b[0;34m(self, data, start_iteration, num_iteration, raw_score, pred_leaf, pred_contrib, data_has_header, is_reshape)\u001b[0m\n\u001b[1;32m    696\u001b[0m         \u001b[0;32mif\u001b[0m \u001b[0misinstance\u001b[0m\u001b[0;34m(\u001b[0m\u001b[0mdata\u001b[0m\u001b[0;34m,\u001b[0m \u001b[0mDataset\u001b[0m\u001b[0;34m)\u001b[0m\u001b[0;34m:\u001b[0m\u001b[0;34m\u001b[0m\u001b[0;34m\u001b[0m\u001b[0m\n\u001b[1;32m    697\u001b[0m             \u001b[0;32mraise\u001b[0m \u001b[0mTypeError\u001b[0m\u001b[0;34m(\u001b[0m\u001b[0;34m\"Cannot use Dataset instance for prediction, please use raw data instead\"\u001b[0m\u001b[0;34m)\u001b[0m\u001b[0;34m\u001b[0m\u001b[0;34m\u001b[0m\u001b[0m\n\u001b[0;32m--> 698\u001b[0;31m         \u001b[0mdata\u001b[0m \u001b[0;34m=\u001b[0m \u001b[0m_data_from_pandas\u001b[0m\u001b[0;34m(\u001b[0m\u001b[0mdata\u001b[0m\u001b[0;34m,\u001b[0m \u001b[0;32mNone\u001b[0m\u001b[0;34m,\u001b[0m \u001b[0;32mNone\u001b[0m\u001b[0;34m,\u001b[0m \u001b[0mself\u001b[0m\u001b[0;34m.\u001b[0m\u001b[0mpandas_categorical\u001b[0m\u001b[0;34m)\u001b[0m\u001b[0;34m[\u001b[0m\u001b[0;36m0\u001b[0m\u001b[0;34m]\u001b[0m\u001b[0;34m\u001b[0m\u001b[0;34m\u001b[0m\u001b[0m\n\u001b[0m\u001b[1;32m    699\u001b[0m         \u001b[0mpredict_type\u001b[0m \u001b[0;34m=\u001b[0m \u001b[0mC_API_PREDICT_NORMAL\u001b[0m\u001b[0;34m\u001b[0m\u001b[0;34m\u001b[0m\u001b[0m\n\u001b[1;32m    700\u001b[0m         \u001b[0;32mif\u001b[0m \u001b[0mraw_score\u001b[0m\u001b[0;34m:\u001b[0m\u001b[0;34m\u001b[0m\u001b[0;34m\u001b[0m\u001b[0m\n",
      "\u001b[0;32m~/opt/anaconda3/envs/jiyoung/lib/python3.7/site-packages/lightgbm/basic.py\u001b[0m in \u001b[0;36m_data_from_pandas\u001b[0;34m(data, feature_name, categorical_feature, pandas_categorical)\u001b[0m\n\u001b[1;32m    517\u001b[0m         \u001b[0;32melse\u001b[0m\u001b[0;34m:\u001b[0m\u001b[0;34m\u001b[0m\u001b[0;34m\u001b[0m\u001b[0m\n\u001b[1;32m    518\u001b[0m             \u001b[0;32mif\u001b[0m \u001b[0mlen\u001b[0m\u001b[0;34m(\u001b[0m\u001b[0mcat_cols\u001b[0m\u001b[0;34m)\u001b[0m \u001b[0;34m!=\u001b[0m \u001b[0mlen\u001b[0m\u001b[0;34m(\u001b[0m\u001b[0mpandas_categorical\u001b[0m\u001b[0;34m)\u001b[0m\u001b[0;34m:\u001b[0m\u001b[0;34m\u001b[0m\u001b[0;34m\u001b[0m\u001b[0m\n\u001b[0;32m--> 519\u001b[0;31m                 \u001b[0;32mraise\u001b[0m \u001b[0mValueError\u001b[0m\u001b[0;34m(\u001b[0m\u001b[0;34m'train and valid dataset categorical_feature do not match.'\u001b[0m\u001b[0;34m)\u001b[0m\u001b[0;34m\u001b[0m\u001b[0;34m\u001b[0m\u001b[0m\n\u001b[0m\u001b[1;32m    520\u001b[0m             \u001b[0;32mfor\u001b[0m \u001b[0mcol\u001b[0m\u001b[0;34m,\u001b[0m \u001b[0mcategory\u001b[0m \u001b[0;32min\u001b[0m \u001b[0mzip\u001b[0m\u001b[0;34m(\u001b[0m\u001b[0mcat_cols\u001b[0m\u001b[0;34m,\u001b[0m \u001b[0mpandas_categorical\u001b[0m\u001b[0;34m)\u001b[0m\u001b[0;34m:\u001b[0m\u001b[0;34m\u001b[0m\u001b[0;34m\u001b[0m\u001b[0m\n\u001b[1;32m    521\u001b[0m                 \u001b[0;32mif\u001b[0m \u001b[0mlist\u001b[0m\u001b[0;34m(\u001b[0m\u001b[0mdata\u001b[0m\u001b[0;34m[\u001b[0m\u001b[0mcol\u001b[0m\u001b[0;34m]\u001b[0m\u001b[0;34m.\u001b[0m\u001b[0mcat\u001b[0m\u001b[0;34m.\u001b[0m\u001b[0mcategories\u001b[0m\u001b[0;34m)\u001b[0m \u001b[0;34m!=\u001b[0m \u001b[0mlist\u001b[0m\u001b[0;34m(\u001b[0m\u001b[0mcategory\u001b[0m\u001b[0;34m)\u001b[0m\u001b[0;34m:\u001b[0m\u001b[0;34m\u001b[0m\u001b[0;34m\u001b[0m\u001b[0m\n",
      "\u001b[0;31mValueError\u001b[0m: train and valid dataset categorical_feature do not match."
     ]
    }
   ],
   "source": [
    "predict_train = model.predict(train_x, predict_disable_shape_check=True)\n",
    "predict_test = model.predict(test_x, predict_disable_shape_check=True)"
   ]
  },
  {
   "cell_type": "code",
   "execution_count": 174,
   "id": "e7282785",
   "metadata": {},
   "outputs": [
    {
     "ename": "ValueError",
     "evalue": "train and valid dataset categorical_feature do not match.",
     "output_type": "error",
     "traceback": [
      "\u001b[0;31m---------------------------------------------------------------------------\u001b[0m",
      "\u001b[0;31mValueError\u001b[0m                                Traceback (most recent call last)",
      "\u001b[0;32m<ipython-input-174-aa3714475576>\u001b[0m in \u001b[0;36m<module>\u001b[0;34m\u001b[0m\n\u001b[0;32m----> 1\u001b[0;31m \u001b[0mpredict_train\u001b[0m \u001b[0;34m=\u001b[0m \u001b[0mmodel\u001b[0m\u001b[0;34m.\u001b[0m\u001b[0mpredict\u001b[0m\u001b[0;34m(\u001b[0m\u001b[0mtrain_x\u001b[0m\u001b[0;34m)\u001b[0m\u001b[0;34m\u001b[0m\u001b[0;34m\u001b[0m\u001b[0m\n\u001b[0m\u001b[1;32m      2\u001b[0m \u001b[0mpredict_test\u001b[0m \u001b[0;34m=\u001b[0m \u001b[0mmodel\u001b[0m\u001b[0;34m.\u001b[0m\u001b[0mpredict\u001b[0m\u001b[0;34m(\u001b[0m\u001b[0mtest_x\u001b[0m\u001b[0;34m)\u001b[0m\u001b[0;34m\u001b[0m\u001b[0;34m\u001b[0m\u001b[0m\n",
      "\u001b[0;32m~/opt/anaconda3/envs/jiyoung/lib/python3.7/site-packages/lightgbm/basic.py\u001b[0m in \u001b[0;36mpredict\u001b[0;34m(self, data, start_iteration, num_iteration, raw_score, pred_leaf, pred_contrib, data_has_header, is_reshape, **kwargs)\u001b[0m\n\u001b[1;32m   3142\u001b[0m         return predictor.predict(data, start_iteration, num_iteration,\n\u001b[1;32m   3143\u001b[0m                                  \u001b[0mraw_score\u001b[0m\u001b[0;34m,\u001b[0m \u001b[0mpred_leaf\u001b[0m\u001b[0;34m,\u001b[0m \u001b[0mpred_contrib\u001b[0m\u001b[0;34m,\u001b[0m\u001b[0;34m\u001b[0m\u001b[0;34m\u001b[0m\u001b[0m\n\u001b[0;32m-> 3144\u001b[0;31m                                  data_has_header, is_reshape)\n\u001b[0m\u001b[1;32m   3145\u001b[0m \u001b[0;34m\u001b[0m\u001b[0m\n\u001b[1;32m   3146\u001b[0m     \u001b[0;32mdef\u001b[0m \u001b[0mrefit\u001b[0m\u001b[0;34m(\u001b[0m\u001b[0mself\u001b[0m\u001b[0;34m,\u001b[0m \u001b[0mdata\u001b[0m\u001b[0;34m,\u001b[0m \u001b[0mlabel\u001b[0m\u001b[0;34m,\u001b[0m \u001b[0mdecay_rate\u001b[0m\u001b[0;34m=\u001b[0m\u001b[0;36m0.9\u001b[0m\u001b[0;34m,\u001b[0m \u001b[0;34m**\u001b[0m\u001b[0mkwargs\u001b[0m\u001b[0;34m)\u001b[0m\u001b[0;34m:\u001b[0m\u001b[0;34m\u001b[0m\u001b[0;34m\u001b[0m\u001b[0m\n",
      "\u001b[0;32m~/opt/anaconda3/envs/jiyoung/lib/python3.7/site-packages/lightgbm/basic.py\u001b[0m in \u001b[0;36mpredict\u001b[0;34m(self, data, start_iteration, num_iteration, raw_score, pred_leaf, pred_contrib, data_has_header, is_reshape)\u001b[0m\n\u001b[1;32m    696\u001b[0m         \u001b[0;32mif\u001b[0m \u001b[0misinstance\u001b[0m\u001b[0;34m(\u001b[0m\u001b[0mdata\u001b[0m\u001b[0;34m,\u001b[0m \u001b[0mDataset\u001b[0m\u001b[0;34m)\u001b[0m\u001b[0;34m:\u001b[0m\u001b[0;34m\u001b[0m\u001b[0;34m\u001b[0m\u001b[0m\n\u001b[1;32m    697\u001b[0m             \u001b[0;32mraise\u001b[0m \u001b[0mTypeError\u001b[0m\u001b[0;34m(\u001b[0m\u001b[0;34m\"Cannot use Dataset instance for prediction, please use raw data instead\"\u001b[0m\u001b[0;34m)\u001b[0m\u001b[0;34m\u001b[0m\u001b[0;34m\u001b[0m\u001b[0m\n\u001b[0;32m--> 698\u001b[0;31m         \u001b[0mdata\u001b[0m \u001b[0;34m=\u001b[0m \u001b[0m_data_from_pandas\u001b[0m\u001b[0;34m(\u001b[0m\u001b[0mdata\u001b[0m\u001b[0;34m,\u001b[0m \u001b[0;32mNone\u001b[0m\u001b[0;34m,\u001b[0m \u001b[0;32mNone\u001b[0m\u001b[0;34m,\u001b[0m \u001b[0mself\u001b[0m\u001b[0;34m.\u001b[0m\u001b[0mpandas_categorical\u001b[0m\u001b[0;34m)\u001b[0m\u001b[0;34m[\u001b[0m\u001b[0;36m0\u001b[0m\u001b[0;34m]\u001b[0m\u001b[0;34m\u001b[0m\u001b[0;34m\u001b[0m\u001b[0m\n\u001b[0m\u001b[1;32m    699\u001b[0m         \u001b[0mpredict_type\u001b[0m \u001b[0;34m=\u001b[0m \u001b[0mC_API_PREDICT_NORMAL\u001b[0m\u001b[0;34m\u001b[0m\u001b[0;34m\u001b[0m\u001b[0m\n\u001b[1;32m    700\u001b[0m         \u001b[0;32mif\u001b[0m \u001b[0mraw_score\u001b[0m\u001b[0;34m:\u001b[0m\u001b[0;34m\u001b[0m\u001b[0;34m\u001b[0m\u001b[0m\n",
      "\u001b[0;32m~/opt/anaconda3/envs/jiyoung/lib/python3.7/site-packages/lightgbm/basic.py\u001b[0m in \u001b[0;36m_data_from_pandas\u001b[0;34m(data, feature_name, categorical_feature, pandas_categorical)\u001b[0m\n\u001b[1;32m    517\u001b[0m         \u001b[0;32melse\u001b[0m\u001b[0;34m:\u001b[0m\u001b[0;34m\u001b[0m\u001b[0;34m\u001b[0m\u001b[0m\n\u001b[1;32m    518\u001b[0m             \u001b[0;32mif\u001b[0m \u001b[0mlen\u001b[0m\u001b[0;34m(\u001b[0m\u001b[0mcat_cols\u001b[0m\u001b[0;34m)\u001b[0m \u001b[0;34m!=\u001b[0m \u001b[0mlen\u001b[0m\u001b[0;34m(\u001b[0m\u001b[0mpandas_categorical\u001b[0m\u001b[0;34m)\u001b[0m\u001b[0;34m:\u001b[0m\u001b[0;34m\u001b[0m\u001b[0;34m\u001b[0m\u001b[0m\n\u001b[0;32m--> 519\u001b[0;31m                 \u001b[0;32mraise\u001b[0m \u001b[0mValueError\u001b[0m\u001b[0;34m(\u001b[0m\u001b[0;34m'train and valid dataset categorical_feature do not match.'\u001b[0m\u001b[0;34m)\u001b[0m\u001b[0;34m\u001b[0m\u001b[0;34m\u001b[0m\u001b[0m\n\u001b[0m\u001b[1;32m    520\u001b[0m             \u001b[0;32mfor\u001b[0m \u001b[0mcol\u001b[0m\u001b[0;34m,\u001b[0m \u001b[0mcategory\u001b[0m \u001b[0;32min\u001b[0m \u001b[0mzip\u001b[0m\u001b[0;34m(\u001b[0m\u001b[0mcat_cols\u001b[0m\u001b[0;34m,\u001b[0m \u001b[0mpandas_categorical\u001b[0m\u001b[0;34m)\u001b[0m\u001b[0;34m:\u001b[0m\u001b[0;34m\u001b[0m\u001b[0;34m\u001b[0m\u001b[0m\n\u001b[1;32m    521\u001b[0m                 \u001b[0;32mif\u001b[0m \u001b[0mlist\u001b[0m\u001b[0;34m(\u001b[0m\u001b[0mdata\u001b[0m\u001b[0;34m[\u001b[0m\u001b[0mcol\u001b[0m\u001b[0;34m]\u001b[0m\u001b[0;34m.\u001b[0m\u001b[0mcat\u001b[0m\u001b[0;34m.\u001b[0m\u001b[0mcategories\u001b[0m\u001b[0;34m)\u001b[0m \u001b[0;34m!=\u001b[0m \u001b[0mlist\u001b[0m\u001b[0;34m(\u001b[0m\u001b[0mcategory\u001b[0m\u001b[0;34m)\u001b[0m\u001b[0;34m:\u001b[0m\u001b[0;34m\u001b[0m\u001b[0;34m\u001b[0m\u001b[0m\n",
      "\u001b[0;31mValueError\u001b[0m: train and valid dataset categorical_feature do not match."
     ]
    }
   ],
   "source": [
    "predict_train = model.predict(train_x)\n",
    "predict_test = model.predict(test_x)"
   ]
  },
  {
   "cell_type": "code",
   "execution_count": null,
   "id": "52628622",
   "metadata": {},
   "outputs": [],
   "source": [
    "mse = mean_squared_error(test_y, predict_test)\n",
    "r2 = r2_score(test_y, predict_test)\n",
    "rmse = mean_squared_error(test_y, predict_test)**0.5"
   ]
  },
  {
   "cell_type": "code",
   "execution_count": null,
   "id": "9352a250",
   "metadata": {},
   "outputs": [],
   "source": [
    "print('Mean squared error: ', mse)\n",
    "print('R2 score: ', r2)\n",
    "print('RMSE score:', rmse)"
   ]
  },
  {
   "cell_type": "code",
   "execution_count": null,
   "id": "2eac961c",
   "metadata": {},
   "outputs": [],
   "source": [
    "final_result = pd.concat([test_y.reset_index(drop=True), pd.DataFrame(predict_test)], axis = 1)"
   ]
  },
  {
   "cell_type": "code",
   "execution_count": null,
   "id": "32dfe9cb",
   "metadata": {},
   "outputs": [],
   "source": [
    "final_result.columns = ['label','predict']"
   ]
  },
  {
   "cell_type": "code",
   "execution_count": null,
   "id": "0089c46a",
   "metadata": {},
   "outputs": [],
   "source": [
    "sns.regplot(x = 'label', y = 'predict', data = final_result)"
   ]
  },
  {
   "cell_type": "code",
   "execution_count": null,
   "id": "6b4a307a",
   "metadata": {},
   "outputs": [],
   "source": []
  },
  {
   "cell_type": "code",
   "execution_count": null,
   "id": "18a9dfea",
   "metadata": {},
   "outputs": [],
   "source": []
  },
  {
   "cell_type": "code",
   "execution_count": 17,
   "id": "bc343d93",
   "metadata": {},
   "outputs": [],
   "source": [
    "test = pd.read_csv('datas/test.csv')"
   ]
  },
  {
   "cell_type": "code",
   "execution_count": 18,
   "id": "f2a0c060",
   "metadata": {},
   "outputs": [
    {
     "data": {
      "text/html": [
       "<div>\n",
       "<style scoped>\n",
       "    .dataframe tbody tr th:only-of-type {\n",
       "        vertical-align: middle;\n",
       "    }\n",
       "\n",
       "    .dataframe tbody tr th {\n",
       "        vertical-align: top;\n",
       "    }\n",
       "\n",
       "    .dataframe thead th {\n",
       "        text-align: right;\n",
       "    }\n",
       "</style>\n",
       "<table border=\"1\" class=\"dataframe\">\n",
       "  <thead>\n",
       "    <tr style=\"text-align: right;\">\n",
       "      <th></th>\n",
       "      <th>transaction_id</th>\n",
       "      <th>apartment_id</th>\n",
       "      <th>city</th>\n",
       "      <th>dong</th>\n",
       "      <th>jibun</th>\n",
       "      <th>apt</th>\n",
       "      <th>addr_kr</th>\n",
       "      <th>exclusive_use_area</th>\n",
       "      <th>year_of_completion</th>\n",
       "      <th>transaction_year_month</th>\n",
       "      <th>transaction_date</th>\n",
       "      <th>floor</th>\n",
       "    </tr>\n",
       "  </thead>\n",
       "  <tbody>\n",
       "    <tr>\n",
       "      <th>0</th>\n",
       "      <td>1145756</td>\n",
       "      <td>10453</td>\n",
       "      <td>서울특별시</td>\n",
       "      <td>목동</td>\n",
       "      <td>938</td>\n",
       "      <td>청학</td>\n",
       "      <td>목동 938 청학</td>\n",
       "      <td>35.5500</td>\n",
       "      <td>2002</td>\n",
       "      <td>201711</td>\n",
       "      <td>11~20</td>\n",
       "      <td>2</td>\n",
       "    </tr>\n",
       "    <tr>\n",
       "      <th>1</th>\n",
       "      <td>1198704</td>\n",
       "      <td>989</td>\n",
       "      <td>부산광역시</td>\n",
       "      <td>초량동</td>\n",
       "      <td>1143-8</td>\n",
       "      <td>고관맨션</td>\n",
       "      <td>초량동 1143-8 고관맨션</td>\n",
       "      <td>68.7200</td>\n",
       "      <td>1977</td>\n",
       "      <td>201708</td>\n",
       "      <td>21~31</td>\n",
       "      <td>2</td>\n",
       "    </tr>\n",
       "    <tr>\n",
       "      <th>2</th>\n",
       "      <td>1222384</td>\n",
       "      <td>8597</td>\n",
       "      <td>부산광역시</td>\n",
       "      <td>괴정동</td>\n",
       "      <td>447-13</td>\n",
       "      <td>우림그린</td>\n",
       "      <td>괴정동 447-13 우림그린</td>\n",
       "      <td>72.5400</td>\n",
       "      <td>1989</td>\n",
       "      <td>201710</td>\n",
       "      <td>11~20</td>\n",
       "      <td>2</td>\n",
       "    </tr>\n",
       "    <tr>\n",
       "      <th>3</th>\n",
       "      <td>1179897</td>\n",
       "      <td>11086</td>\n",
       "      <td>서울특별시</td>\n",
       "      <td>대치동</td>\n",
       "      <td>1007-2</td>\n",
       "      <td>풍림아이원4차(1007-2)</td>\n",
       "      <td>대치동 1007-2 풍림아이원4차(1007-2)</td>\n",
       "      <td>111.5400</td>\n",
       "      <td>2004</td>\n",
       "      <td>201707</td>\n",
       "      <td>1~10</td>\n",
       "      <td>10</td>\n",
       "    </tr>\n",
       "    <tr>\n",
       "      <th>4</th>\n",
       "      <td>1223091</td>\n",
       "      <td>2121</td>\n",
       "      <td>부산광역시</td>\n",
       "      <td>다대동</td>\n",
       "      <td>1670</td>\n",
       "      <td>다대롯데캐슬블루</td>\n",
       "      <td>다대동 1670 다대롯데캐슬블루</td>\n",
       "      <td>119.6398</td>\n",
       "      <td>2014</td>\n",
       "      <td>201712</td>\n",
       "      <td>11~20</td>\n",
       "      <td>21</td>\n",
       "    </tr>\n",
       "    <tr>\n",
       "      <th>...</th>\n",
       "      <td>...</td>\n",
       "      <td>...</td>\n",
       "      <td>...</td>\n",
       "      <td>...</td>\n",
       "      <td>...</td>\n",
       "      <td>...</td>\n",
       "      <td>...</td>\n",
       "      <td>...</td>\n",
       "      <td>...</td>\n",
       "      <td>...</td>\n",
       "      <td>...</td>\n",
       "      <td>...</td>\n",
       "    </tr>\n",
       "    <tr>\n",
       "      <th>5458</th>\n",
       "      <td>1174640</td>\n",
       "      <td>8965</td>\n",
       "      <td>서울특별시</td>\n",
       "      <td>양재동</td>\n",
       "      <td>15-9</td>\n",
       "      <td>위너스</td>\n",
       "      <td>양재동 15-9 위너스</td>\n",
       "      <td>84.0500</td>\n",
       "      <td>2003</td>\n",
       "      <td>201710</td>\n",
       "      <td>11~20</td>\n",
       "      <td>7</td>\n",
       "    </tr>\n",
       "    <tr>\n",
       "      <th>5459</th>\n",
       "      <td>1175575</td>\n",
       "      <td>3831</td>\n",
       "      <td>서울특별시</td>\n",
       "      <td>반포동</td>\n",
       "      <td>18-1</td>\n",
       "      <td>래미안퍼스티지</td>\n",
       "      <td>반포동 18-1 래미안퍼스티지</td>\n",
       "      <td>84.9300</td>\n",
       "      <td>2009</td>\n",
       "      <td>201712</td>\n",
       "      <td>1~10</td>\n",
       "      <td>4</td>\n",
       "    </tr>\n",
       "    <tr>\n",
       "      <th>5460</th>\n",
       "      <td>1157024</td>\n",
       "      <td>5550</td>\n",
       "      <td>서울특별시</td>\n",
       "      <td>구로동</td>\n",
       "      <td>256-1</td>\n",
       "      <td>삼성래미안</td>\n",
       "      <td>구로동 256-1 삼성래미안</td>\n",
       "      <td>110.1880</td>\n",
       "      <td>2004</td>\n",
       "      <td>201712</td>\n",
       "      <td>21~31</td>\n",
       "      <td>23</td>\n",
       "    </tr>\n",
       "    <tr>\n",
       "      <th>5461</th>\n",
       "      <td>1136863</td>\n",
       "      <td>3371</td>\n",
       "      <td>서울특별시</td>\n",
       "      <td>홍제동</td>\n",
       "      <td>24-16</td>\n",
       "      <td>동양드림</td>\n",
       "      <td>홍제동 24-16 동양드림</td>\n",
       "      <td>92.4400</td>\n",
       "      <td>2005</td>\n",
       "      <td>201710</td>\n",
       "      <td>21~31</td>\n",
       "      <td>1</td>\n",
       "    </tr>\n",
       "    <tr>\n",
       "      <th>5462</th>\n",
       "      <td>1218921</td>\n",
       "      <td>6825</td>\n",
       "      <td>부산광역시</td>\n",
       "      <td>재송동</td>\n",
       "      <td>1187</td>\n",
       "      <td>센텀그린타워</td>\n",
       "      <td>재송동 1187 센텀그린타워</td>\n",
       "      <td>84.6400</td>\n",
       "      <td>1993</td>\n",
       "      <td>201712</td>\n",
       "      <td>1~10</td>\n",
       "      <td>7</td>\n",
       "    </tr>\n",
       "  </tbody>\n",
       "</table>\n",
       "<p>5463 rows × 12 columns</p>\n",
       "</div>"
      ],
      "text/plain": [
       "      transaction_id  apartment_id   city dong   jibun              apt  \\\n",
       "0            1145756         10453  서울특별시   목동     938               청학   \n",
       "1            1198704           989  부산광역시  초량동  1143-8             고관맨션   \n",
       "2            1222384          8597  부산광역시  괴정동  447-13             우림그린   \n",
       "3            1179897         11086  서울특별시  대치동  1007-2  풍림아이원4차(1007-2)   \n",
       "4            1223091          2121  부산광역시  다대동    1670         다대롯데캐슬블루   \n",
       "...              ...           ...    ...  ...     ...              ...   \n",
       "5458         1174640          8965  서울특별시  양재동    15-9              위너스   \n",
       "5459         1175575          3831  서울특별시  반포동    18-1          래미안퍼스티지   \n",
       "5460         1157024          5550  서울특별시  구로동   256-1            삼성래미안   \n",
       "5461         1136863          3371  서울특별시  홍제동   24-16             동양드림   \n",
       "5462         1218921          6825  부산광역시  재송동    1187           센텀그린타워   \n",
       "\n",
       "                         addr_kr  exclusive_use_area  year_of_completion  \\\n",
       "0                      목동 938 청학             35.5500                2002   \n",
       "1                초량동 1143-8 고관맨션             68.7200                1977   \n",
       "2                괴정동 447-13 우림그린             72.5400                1989   \n",
       "3     대치동 1007-2 풍림아이원4차(1007-2)            111.5400                2004   \n",
       "4              다대동 1670 다대롯데캐슬블루            119.6398                2014   \n",
       "...                          ...                 ...                 ...   \n",
       "5458                양재동 15-9 위너스             84.0500                2003   \n",
       "5459            반포동 18-1 래미안퍼스티지             84.9300                2009   \n",
       "5460             구로동 256-1 삼성래미안            110.1880                2004   \n",
       "5461              홍제동 24-16 동양드림             92.4400                2005   \n",
       "5462             재송동 1187 센텀그린타워             84.6400                1993   \n",
       "\n",
       "      transaction_year_month transaction_date  floor  \n",
       "0                     201711            11~20      2  \n",
       "1                     201708            21~31      2  \n",
       "2                     201710            11~20      2  \n",
       "3                     201707             1~10     10  \n",
       "4                     201712            11~20     21  \n",
       "...                      ...              ...    ...  \n",
       "5458                  201710            11~20      7  \n",
       "5459                  201712             1~10      4  \n",
       "5460                  201712            21~31     23  \n",
       "5461                  201710            21~31      1  \n",
       "5462                  201712             1~10      7  \n",
       "\n",
       "[5463 rows x 12 columns]"
      ]
     },
     "execution_count": 18,
     "metadata": {},
     "output_type": "execute_result"
    }
   ],
   "source": [
    "test"
   ]
  },
  {
   "cell_type": "code",
   "execution_count": 19,
   "id": "6a6c9ac8",
   "metadata": {},
   "outputs": [],
   "source": [
    "test[\"dong2\"] = test[\"dong\"].astype('category')\n",
    "test[\"transaction_id2\"] = test[\"transaction_id\"].astype('category')\n",
    "test[\"apartment_id2\"] = test[\"apartment_id\"].astype('category')"
   ]
  },
  {
   "cell_type": "code",
   "execution_count": 20,
   "id": "b433cbf3",
   "metadata": {},
   "outputs": [],
   "source": [
    "test['year'] =  round(test['transaction_year_month'] / 100)\n",
    "test['month'] = test['transaction_year_month'] % 100"
   ]
  },
  {
   "cell_type": "code",
   "execution_count": 21,
   "id": "37a9c021",
   "metadata": {},
   "outputs": [
    {
     "data": {
      "text/html": [
       "<div>\n",
       "<style scoped>\n",
       "    .dataframe tbody tr th:only-of-type {\n",
       "        vertical-align: middle;\n",
       "    }\n",
       "\n",
       "    .dataframe tbody tr th {\n",
       "        vertical-align: top;\n",
       "    }\n",
       "\n",
       "    .dataframe thead th {\n",
       "        text-align: right;\n",
       "    }\n",
       "</style>\n",
       "<table border=\"1\" class=\"dataframe\">\n",
       "  <thead>\n",
       "    <tr style=\"text-align: right;\">\n",
       "      <th></th>\n",
       "      <th>transaction_id</th>\n",
       "      <th>apartment_id</th>\n",
       "      <th>city</th>\n",
       "      <th>dong</th>\n",
       "      <th>jibun</th>\n",
       "      <th>apt</th>\n",
       "      <th>addr_kr</th>\n",
       "      <th>exclusive_use_area</th>\n",
       "      <th>year_of_completion</th>\n",
       "      <th>transaction_year_month</th>\n",
       "      <th>transaction_date</th>\n",
       "      <th>floor</th>\n",
       "      <th>dong2</th>\n",
       "      <th>transaction_id2</th>\n",
       "      <th>apartment_id2</th>\n",
       "      <th>year</th>\n",
       "      <th>month</th>\n",
       "    </tr>\n",
       "  </thead>\n",
       "  <tbody>\n",
       "    <tr>\n",
       "      <th>0</th>\n",
       "      <td>1145756</td>\n",
       "      <td>10453</td>\n",
       "      <td>서울특별시</td>\n",
       "      <td>목동</td>\n",
       "      <td>938</td>\n",
       "      <td>청학</td>\n",
       "      <td>목동 938 청학</td>\n",
       "      <td>35.5500</td>\n",
       "      <td>2002</td>\n",
       "      <td>201711</td>\n",
       "      <td>11~20</td>\n",
       "      <td>2</td>\n",
       "      <td>목동</td>\n",
       "      <td>1145756</td>\n",
       "      <td>10453</td>\n",
       "      <td>2017.0</td>\n",
       "      <td>11</td>\n",
       "    </tr>\n",
       "    <tr>\n",
       "      <th>1</th>\n",
       "      <td>1198704</td>\n",
       "      <td>989</td>\n",
       "      <td>부산광역시</td>\n",
       "      <td>초량동</td>\n",
       "      <td>1143-8</td>\n",
       "      <td>고관맨션</td>\n",
       "      <td>초량동 1143-8 고관맨션</td>\n",
       "      <td>68.7200</td>\n",
       "      <td>1977</td>\n",
       "      <td>201708</td>\n",
       "      <td>21~31</td>\n",
       "      <td>2</td>\n",
       "      <td>초량동</td>\n",
       "      <td>1198704</td>\n",
       "      <td>989</td>\n",
       "      <td>2017.0</td>\n",
       "      <td>8</td>\n",
       "    </tr>\n",
       "    <tr>\n",
       "      <th>2</th>\n",
       "      <td>1222384</td>\n",
       "      <td>8597</td>\n",
       "      <td>부산광역시</td>\n",
       "      <td>괴정동</td>\n",
       "      <td>447-13</td>\n",
       "      <td>우림그린</td>\n",
       "      <td>괴정동 447-13 우림그린</td>\n",
       "      <td>72.5400</td>\n",
       "      <td>1989</td>\n",
       "      <td>201710</td>\n",
       "      <td>11~20</td>\n",
       "      <td>2</td>\n",
       "      <td>괴정동</td>\n",
       "      <td>1222384</td>\n",
       "      <td>8597</td>\n",
       "      <td>2017.0</td>\n",
       "      <td>10</td>\n",
       "    </tr>\n",
       "    <tr>\n",
       "      <th>3</th>\n",
       "      <td>1179897</td>\n",
       "      <td>11086</td>\n",
       "      <td>서울특별시</td>\n",
       "      <td>대치동</td>\n",
       "      <td>1007-2</td>\n",
       "      <td>풍림아이원4차(1007-2)</td>\n",
       "      <td>대치동 1007-2 풍림아이원4차(1007-2)</td>\n",
       "      <td>111.5400</td>\n",
       "      <td>2004</td>\n",
       "      <td>201707</td>\n",
       "      <td>1~10</td>\n",
       "      <td>10</td>\n",
       "      <td>대치동</td>\n",
       "      <td>1179897</td>\n",
       "      <td>11086</td>\n",
       "      <td>2017.0</td>\n",
       "      <td>7</td>\n",
       "    </tr>\n",
       "    <tr>\n",
       "      <th>4</th>\n",
       "      <td>1223091</td>\n",
       "      <td>2121</td>\n",
       "      <td>부산광역시</td>\n",
       "      <td>다대동</td>\n",
       "      <td>1670</td>\n",
       "      <td>다대롯데캐슬블루</td>\n",
       "      <td>다대동 1670 다대롯데캐슬블루</td>\n",
       "      <td>119.6398</td>\n",
       "      <td>2014</td>\n",
       "      <td>201712</td>\n",
       "      <td>11~20</td>\n",
       "      <td>21</td>\n",
       "      <td>다대동</td>\n",
       "      <td>1223091</td>\n",
       "      <td>2121</td>\n",
       "      <td>2017.0</td>\n",
       "      <td>12</td>\n",
       "    </tr>\n",
       "  </tbody>\n",
       "</table>\n",
       "</div>"
      ],
      "text/plain": [
       "   transaction_id  apartment_id   city dong   jibun              apt  \\\n",
       "0         1145756         10453  서울특별시   목동     938               청학   \n",
       "1         1198704           989  부산광역시  초량동  1143-8             고관맨션   \n",
       "2         1222384          8597  부산광역시  괴정동  447-13             우림그린   \n",
       "3         1179897         11086  서울특별시  대치동  1007-2  풍림아이원4차(1007-2)   \n",
       "4         1223091          2121  부산광역시  다대동    1670         다대롯데캐슬블루   \n",
       "\n",
       "                      addr_kr  exclusive_use_area  year_of_completion  \\\n",
       "0                   목동 938 청학             35.5500                2002   \n",
       "1             초량동 1143-8 고관맨션             68.7200                1977   \n",
       "2             괴정동 447-13 우림그린             72.5400                1989   \n",
       "3  대치동 1007-2 풍림아이원4차(1007-2)            111.5400                2004   \n",
       "4           다대동 1670 다대롯데캐슬블루            119.6398                2014   \n",
       "\n",
       "   transaction_year_month transaction_date  floor dong2 transaction_id2  \\\n",
       "0                  201711            11~20      2    목동         1145756   \n",
       "1                  201708            21~31      2   초량동         1198704   \n",
       "2                  201710            11~20      2   괴정동         1222384   \n",
       "3                  201707             1~10     10   대치동         1179897   \n",
       "4                  201712            11~20     21   다대동         1223091   \n",
       "\n",
       "  apartment_id2    year  month  \n",
       "0         10453  2017.0     11  \n",
       "1           989  2017.0      8  \n",
       "2          8597  2017.0     10  \n",
       "3         11086  2017.0      7  \n",
       "4          2121  2017.0     12  "
      ]
     },
     "execution_count": 21,
     "metadata": {},
     "output_type": "execute_result"
    }
   ],
   "source": [
    "test.head()"
   ]
  },
  {
   "cell_type": "code",
   "execution_count": 26,
   "id": "d4c8313c",
   "metadata": {},
   "outputs": [],
   "source": [
    "test_x = test[[\"dong2\",\"apartment_id2\",\"exclusive_use_area\",\"year_of_completion\",\"year\",\"month\",\"floor\"]]"
   ]
  },
  {
   "cell_type": "code",
   "execution_count": 27,
   "id": "9eada28b",
   "metadata": {},
   "outputs": [],
   "source": [
    "predict_test = model.predict(test_x)"
   ]
  },
  {
   "cell_type": "code",
   "execution_count": 28,
   "id": "0c5fdfee",
   "metadata": {},
   "outputs": [
    {
     "data": {
      "text/plain": [
       "52862.063131188894"
      ]
     },
     "execution_count": 28,
     "metadata": {},
     "output_type": "execute_result"
    }
   ],
   "source": [
    "predict_test.mean()"
   ]
  },
  {
   "cell_type": "code",
   "execution_count": 29,
   "id": "eec1e90f",
   "metadata": {},
   "outputs": [
    {
     "data": {
      "text/plain": [
       "array([38322.80180991, 15451.11790345, 14540.77954161, ...,\n",
       "       60478.63370584, 40757.50339261, 19785.23628233])"
      ]
     },
     "execution_count": 29,
     "metadata": {},
     "output_type": "execute_result"
    }
   ],
   "source": [
    "predict_test"
   ]
  },
  {
   "cell_type": "code",
   "execution_count": null,
   "id": "a94780df",
   "metadata": {},
   "outputs": [],
   "source": []
  },
  {
   "cell_type": "code",
   "execution_count": null,
   "id": "1c0920b0",
   "metadata": {},
   "outputs": [],
   "source": []
  },
  {
   "cell_type": "code",
   "execution_count": null,
   "id": "da07f0b0",
   "metadata": {},
   "outputs": [],
   "source": []
  },
  {
   "cell_type": "code",
   "execution_count": null,
   "id": "7f5aedaf",
   "metadata": {},
   "outputs": [],
   "source": []
  },
  {
   "cell_type": "code",
   "execution_count": null,
   "id": "ef60b20a",
   "metadata": {},
   "outputs": [],
   "source": []
  },
  {
   "cell_type": "code",
   "execution_count": null,
   "id": "dd812502",
   "metadata": {},
   "outputs": [],
   "source": []
  },
  {
   "cell_type": "code",
   "execution_count": null,
   "id": "8fcb066c",
   "metadata": {},
   "outputs": [],
   "source": []
  },
  {
   "cell_type": "code",
   "execution_count": null,
   "id": "f4419d02",
   "metadata": {},
   "outputs": [],
   "source": []
  },
  {
   "cell_type": "code",
   "execution_count": null,
   "id": "c18487ff",
   "metadata": {},
   "outputs": [],
   "source": []
  },
  {
   "cell_type": "code",
   "execution_count": null,
   "id": "56a6fc30",
   "metadata": {},
   "outputs": [],
   "source": []
  },
  {
   "cell_type": "code",
   "execution_count": null,
   "id": "b1ff739a",
   "metadata": {},
   "outputs": [],
   "source": []
  },
  {
   "cell_type": "code",
   "execution_count": null,
   "id": "2e044308",
   "metadata": {},
   "outputs": [],
   "source": []
  },
  {
   "cell_type": "code",
   "execution_count": null,
   "id": "bcbc1402",
   "metadata": {},
   "outputs": [],
   "source": []
  },
  {
   "cell_type": "code",
   "execution_count": null,
   "id": "ea2a0580",
   "metadata": {},
   "outputs": [],
   "source": []
  },
  {
   "cell_type": "code",
   "execution_count": null,
   "id": "135b2bfa",
   "metadata": {},
   "outputs": [],
   "source": []
  },
  {
   "cell_type": "code",
   "execution_count": null,
   "id": "2fcf9405",
   "metadata": {},
   "outputs": [],
   "source": []
  },
  {
   "cell_type": "code",
   "execution_count": null,
   "id": "527ee647",
   "metadata": {},
   "outputs": [],
   "source": []
  },
  {
   "cell_type": "code",
   "execution_count": null,
   "id": "974ca70b",
   "metadata": {},
   "outputs": [],
   "source": []
  },
  {
   "cell_type": "code",
   "execution_count": null,
   "id": "53dd8971",
   "metadata": {},
   "outputs": [],
   "source": []
  },
  {
   "cell_type": "code",
   "execution_count": null,
   "id": "4570084b",
   "metadata": {},
   "outputs": [],
   "source": []
  },
  {
   "cell_type": "code",
   "execution_count": null,
   "id": "4e2df222",
   "metadata": {},
   "outputs": [],
   "source": []
  },
  {
   "cell_type": "code",
   "execution_count": null,
   "id": "7584a54f",
   "metadata": {},
   "outputs": [],
   "source": []
  },
  {
   "cell_type": "code",
   "execution_count": null,
   "id": "5f3fd787",
   "metadata": {},
   "outputs": [],
   "source": []
  },
  {
   "cell_type": "code",
   "execution_count": null,
   "id": "a16f735b",
   "metadata": {},
   "outputs": [],
   "source": []
  },
  {
   "cell_type": "code",
   "execution_count": null,
   "id": "d8a246f9",
   "metadata": {},
   "outputs": [],
   "source": []
  },
  {
   "cell_type": "code",
   "execution_count": null,
   "id": "0ffe9a56",
   "metadata": {},
   "outputs": [],
   "source": []
  },
  {
   "cell_type": "code",
   "execution_count": null,
   "id": "848e90e8",
   "metadata": {},
   "outputs": [],
   "source": []
  },
  {
   "cell_type": "code",
   "execution_count": null,
   "id": "b7afd831",
   "metadata": {},
   "outputs": [],
   "source": []
  }
 ],
 "metadata": {
  "kernelspec": {
   "display_name": "Python 3",
   "language": "python",
   "name": "python3"
  },
  "language_info": {
   "codemirror_mode": {
    "name": "ipython",
    "version": 3
   },
   "file_extension": ".py",
   "mimetype": "text/x-python",
   "name": "python",
   "nbconvert_exporter": "python",
   "pygments_lexer": "ipython3",
   "version": "3.7.10"
  },
  "toc": {
   "base_numbering": 1,
   "nav_menu": {},
   "number_sections": true,
   "sideBar": true,
   "skip_h1_title": false,
   "title_cell": "Table of Contents",
   "title_sidebar": "Contents",
   "toc_cell": false,
   "toc_position": {},
   "toc_section_display": true,
   "toc_window_display": false
  }
 },
 "nbformat": 4,
 "nbformat_minor": 5
}
